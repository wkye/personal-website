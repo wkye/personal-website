{
 "cells": [
  {
   "cell_type": "raw",
   "id": "b834771d",
   "metadata": {},
   "source": [
    "{{< figure src=\"/images/personal_website/making_website.png\">}}"
   ]
  },
  {
   "cell_type": "markdown",
   "id": "68744e37",
   "metadata": {},
   "source": [
    "I have no formal training in computer science and would not consider myself an engineer. I do, however, think of myself as someone who \"gets the job done\". As I have worked in several startups (each subsequent company tends to get smaller :eyes:), I've picked up a scrappy mindset where I love learning new things. And fortunately, these smaller starts up offer the latitude to fail quickly and learn (more?) quickly!\n",
    "\n",
    "In this post, I will show you the process of how I learned how to make this website!\n",
    "<!--more-->"
   ]
  },
  {
   "cell_type": "markdown",
   "id": "3bfb19b7",
   "metadata": {},
   "source": [
    "### Online Resources"
   ]
  },
  {
   "cell_type": "code",
   "execution_count": null,
   "id": "a4498917",
   "metadata": {},
   "outputs": [],
   "source": []
  }
 ],
 "metadata": {
  "hugo": {
   "date": "2022-10-04",
   "draft": false,
   "enableEmoji": true,
   "hasMath": false,
   "notebook": true,
   "slug": "website",
   "tags": [
    "engineering"
   ],
   "title": "Make You Own Website Using Hugo and Netlify"
  },
  "kernelspec": {
   "display_name": "Python 3 (ipykernel)",
   "language": "python",
   "name": "python3"
  },
  "language_info": {
   "codemirror_mode": {
    "name": "ipython",
    "version": 3
   },
   "file_extension": ".py",
   "mimetype": "text/x-python",
   "name": "python",
   "nbconvert_exporter": "python",
   "pygments_lexer": "ipython3",
   "version": "3.8.7"
  }
 },
 "nbformat": 4,
 "nbformat_minor": 5
}
