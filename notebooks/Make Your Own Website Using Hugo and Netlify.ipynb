{
 "cells": [
  {
   "cell_type": "markdown",
   "id": "d02340ea",
   "metadata": {},
   "source": [
    "{{<figure src=\"/images/personal_website/making_website_wip2.png\">}}"
   ]
  },
  {
   "cell_type": "markdown",
   "id": "7f2546ce",
   "metadata": {},
   "source": [
    "I have no formal training in computer science and would not consider myself an engineer. I do, however, think of myself as someone who \"gets the job done\". As I have worked in several startups (each subsequent company tends to get smaller :eyes:), I've picked up a scrappy mindset where I love learning new things. And fortunately, these smaller starts up offer the latitude to fail quickly and learn (more?) quickly!\n",
    "\n",
    "In this post, I will show you the process of how I learned how to make this website!\n",
    "<!--more-->\n",
    "\n",
    "# Online Resources\n",
    "\n",
    "There were several people who's work I used as a reference to build my own site: \n",
    "- [Ethan Rosenthal](https://github.com/EthanRosenthal/website-source): My former MLE lead at Dia&Co! Built a lot of my stuff on top of the code he had already written. Was a huge help in quickly debugging my site.\n",
    "- [Lugo](https://www.youtube.com/watch?v=ZFL09qhKi5I&t=1092s): My initial testing of Hugo was helped by this tutorial.\n",
    "- [Design](https://github.com/nodejh/hugo-theme-mini): The design of my website leverages the themes from the hugo-theme-mini repository.\n",
    "\n",
    "# Getting Started: Hugo\n",
    "\n",
    "I'm assuming that you have some knowledge of python and git but this is your first foray into hugo and netlify. Let's start with what [Hugo](https://gohugo.io/) is. \n",
    "\n",
    "Hugo is built up on Go, making it super fast and responsive. At the same time, it's abstracted out enough from Go to make it simple for people who don't build websites for a living (like me) but at the same time highly extensible. First install hugo on to your machine:\n",
    "```\n",
    "brew install hugo\n",
    "```\n",
    "Once you have hugo installed, go to whatever base directory you work out of. And run the following:\n",
    "```\n",
    "hugo new site personal-website\n",
    "```\n",
    "This will create a new folder titled `personal-website` with the following directory tree:\n",
    "\n",
    "```\n",
    "personal-website\n",
    "├── archetypes\n",
    "│   └── default.md\n",
    "├── config.toml\n",
    "├── content\n",
    "├── data\n",
    "├── layouts\n",
    "├── public\n",
    "├── static\n",
    "└── themes\n",
    "```\n",
    "\n",
    "For the purposes of keeping this tutorial succinct, the main folders you will utilize will be:\n",
    "- `config.toml` - Basic configuration file. Controls things like what language your site will render in or whether to enable emojis (obviously you should enable, duh :stuck_out_tongue_winking_eye:).\n",
    "- `content` - The content in markdown form on your website.\n",
    "- `static` - All of your non-dynamic files (e.g. images, css, etc)\n",
    "- `themes` - The template for how your site will be displayed. There are a multitude of [themes to choose from on Hugo](https://themes.gohugo.io/)!\n",
    "\n",
    "# Getting Started: Poetry\n",
    "\n",
    "Poetry is a package dependency tool. It will allow you to create a virtual environment that mimics the one I am currently in, and thus allows you to reproduce any work that I do! This should install poetry:\n",
    "```\n",
    "curl -sSL https://install.python-poetry.org | python3 -\n",
    "```\n",
    "\n",
    "Once you've install poetry, intitalize within your `personal-website` folder and it should create a `pyproject.toml`:\n",
    "```\n",
    "# all prompts are optional except your name\n",
    "poetry init\n",
    "```\n",
    "\n",
    "Within your `pyproject.toml` file, copy the contents of my [pyproject.toml file](https://github.com/wkye/personal-website/blob/main/pyproject.toml). Then run snippet below and shazaam! This should create a `poetry.lock` file and now your machine should more or less function the same as mine :smiley::\n",
    "\n",
    "```\n",
    "poetry install\n",
    "```"
   ]
  },
  {
   "cell_type": "code",
   "execution_count": null,
   "id": "ca93f6ef",
   "metadata": {},
   "outputs": [],
   "source": []
  }
 ],
 "metadata": {
  "hugo": {
   "date": "2022-10-04",
   "draft": false,
   "enableEmoji": true,
   "hasMath": false,
   "notebook": true,
   "slug": "website",
   "tags": [
    "engineering"
   ],
   "title": "Make You Own Website Using Hugo and Netlify"
  },
  "kernelspec": {
   "display_name": "Python 3 (ipykernel)",
   "language": "python",
   "name": "python3"
  },
  "language_info": {
   "codemirror_mode": {
    "name": "ipython",
    "version": 3
   },
   "file_extension": ".py",
   "mimetype": "text/x-python",
   "name": "python",
   "nbconvert_exporter": "python",
   "pygments_lexer": "ipython3",
   "version": "3.8.7"
  }
 },
 "nbformat": 4,
 "nbformat_minor": 5
}
