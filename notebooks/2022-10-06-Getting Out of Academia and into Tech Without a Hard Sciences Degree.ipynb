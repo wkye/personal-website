{
 "cells": [
  {
   "cell_type": "markdown",
   "id": "3a56b22d",
   "metadata": {},
   "source": [
    "More and more people are flocking to the high-paying, flexible, and engaging work that the technology space has to offer. And with some of the highest training from the sharpest minds in their fields, the transition seems almost natural for academics. Almost. Tech is lauded as being a non-credentialed space - it doesn't care about where you went to school or what previous roles you've had. While this is true to an extent, it is more true for some fields than others. Transitioning from a physicist to a machine learning engineer is a story I've heard a million times. But what about someone with a social science Ph.D. or a humanity degree?\n",
    "<!--more-->\n",
    "\n",
    "I left my Ph.D. program in sociology at the University of Notre Dame in 2017 without finishing my Doctorate. Today I am working as a data scientist at a tech company - in retrospect, a career much better suited for me personally. I want to use this post as an opportunity to share my thoughts on how my transition went and give a glimpse into a more unusual path into a tech career.\n",
    "\n",
    "# Why I Left Academia\n",
    "\n",
    "{{<figure src=\"/images/leaving-academia/Willie-ND-2015.png\"\n",
    "width=\"600\"\n",
    "caption=\"I'm still the face of ND sociology (as of Oct 2022)\" >}}\n",
    "\n",
    "I want to say upfront that I loved my time at Notre Dame (Go Irish :football:). I had some of the greatest professors and mentors I could ask for, but it just wasn't for me.\n",
    "    \n",
    "The initial draw of why I entered a Ph.D. program was the research. I was fascinated with why people behaved the way they did, particularly from a quantitative lens. And my time in academia cultivated those skills. [Jeffrey Wooldridge's Econometrics textbook]((https://www.amazon.com/Introductory-Econometrics-Modern-Approach-Economics/dp/1111531048)) remains the foundation of my statistics and my research was my first real exposure to collecting, cleaning, and analyzing large datasets (my dissertation proposal was around using census data to predict neighborhood gentrification - don't ask me more than that cause I don't remember much more...). But there is SO much more to academia than just research. Between the politics of the department, the constant pressure to come up with something new and innovative (even if you're not interested in it), and the looming fact that there is only a tiny pool of tenure-track jobs available after you graduate, it left me feeling disillusioned and disenchanted with academia.\n",
    "    \n",
    "I loved research, but surely there must be a way to do it without the pressure of grants, publications, and all the other political bullshit.\n",
    "\n",
    "# Less of a Transition More of a Free Fall\n",
    "    \n",
    "After mulling it over, I decided to leave my Ph.D. program. I thought to myself \"I have advanced training| from a prestigious institution like Notre Dame, I should be an attractive candidate in the tech space\". And I wasn't completely incorrect.\n",
    "- I knew how to do robust quantitative research.\n",
    "- I had a strong statistical base, particularly in inference (regressions, significance testing, etc.).\n",
    "- I knew the basics of coding (initially trained in Stata, but had learned R by the time I left ND).\n",
    "- To be frank, was a workaholic. Being a graduate student to this day is one of the hardest things I've ever done.\n",
    "\n",
    "At the same time, I also\n",
    "- Had a 3-page CV.\n",
    "- Wore a suit to my first interview.\n",
    "\n",
    "You get the picture, a Ph.D. prepares you to be highly trained in a very niche field. It does not train you to pass an HR screening or a take-home test. That's not to say there aren't skills you learned that can't be highly extensible to the industry, but it takes some refinement.\n",
    "This is true of anyone transitioning from academia, but it is doubly true if you have a degree in one of the less common fields (e.g. social sciences, humanities).\n",
    "\n",
    "# How Common is \"Sociology\" in Job Postings vs. \"Mathematics\" and Other Hard Science Degree   \n",
    "    \n",
    "Below I built a custom python package to query the Google Careers Search API for data science job titles and descriptions (See here for [python package](https://github.com/wkye/leaving-academia-for-tech/blob/main/src/resources/google_query.py) and here for [API instructions](https://github.com/wkye/leaving-academia-for-tech)). I use this data to see how often different educational fields comes up as requirements in job postings"
   ]
  },
  {
   "cell_type": "code",
   "execution_count": 3,
   "id": "d90d6889-1db9-4888-addf-8ae7563bd708",
   "metadata": {},
   "outputs": [],
   "source": [
    "import pandas as pd\n",
    "from src.resources import resource"
   ]
  },
  {
   "cell_type": "code",
   "execution_count": 4,
   "id": "f90c83a1-a53d-4ef1-bdcf-83e459bd0220",
   "metadata": {},
   "outputs": [
    {
     "name": "stderr",
     "output_type": "stream",
     "text": [
      "2022-11-21 09:08:49.062 | INFO     | src.resources:query:74 - Query data retrieved in 1.1 seconds.\n",
      "Retrieved dataframe with 100 rows, consuming 0.0 MB.\n"
     ]
    }
   ],
   "source": [
    "google_jobs = resource('google')\n",
    "df = google_jobs.query(q='data scientist',\n",
    "                       location='New York, New York',\n",
    "                       n_search=100\n",
    "                       # ,serp_api_key = <your key>\n",
    ")"
   ]
  },
  {
   "cell_type": "markdown",
   "id": "4bd24178",
   "metadata": {},
   "source": [
    "Below is a sample of a returned data science job search query. **You can see that Sociology comes up 2% of the time while in contrast math comes up 54% of the time**. This is a simple, yet powerful, example of how coming out of academia with a non-hard sciences training drastically shapes how the job market views you."
   ]
  },
  {
   "cell_type": "code",
   "execution_count": 89,
   "id": "5254dc56-567f-4b33-8199-0d2ab3946601",
   "metadata": {},
   "outputs": [
    {
     "name": "stdout",
     "output_type": "stream",
     "text": [
      "company_name      NATIONAL GRID CO USA (NE POWER)\n",
      "title           Lead Data Scientist, Data Science\n",
      "Name: 0, dtype: object\n",
      "About us\n",
      "\n",
      "Every day we deliver safe and secure energy to homes, communities, and businesses. We are there when people need us the most. We connect people to the energy they need for the lives they live. The pace of change in society and our industry is accelerating and our expertise and track record puts us in an unparalleled position to shape the sustainable future of our industry...\n",
      "\n",
      "To be successful we must anticipate the needs of our customers, reducing the cost of energy delivery today and pioneering the flexible energy systems of tomorrow. This requires us to deliver on our promises and always look for new opportunities to grow, both ourselves and our business.\n",
      "\n",
      "National Grid is hiring a Lead Data Scientist for Data Management & Analytics Team in the Load Forecasting & Analytics Department\" This position can be based out of Waltham, MA or Hicksville, NY, Brooklyn, NY, Syracuse, NY or Albany, NY.\n",
      "Job Purpose\n",
      "\n",
      "The Load Forecasting & Analytics team produces the electric and gas load forecasts for National Grid as well economic analysis and insight. As a Lead Data Analyst within the Data Management & Analytics team, you will support the development, presentation, and defense of the gas and electric load forecasts for our US service territory by defining, managing, and executing all data-related tasks including, but not limited to: data acquisition, transformation, and storage; software/script development; data platform management and maintenance; requirements collection and stakeholder communications.\n",
      "Key Accountabilities\n",
      "\n",
      "• Assemble small and large individual data sets that meet internal business requirements\n",
      "• Design and implement ETL processes to collect, transform, and store data from various data sources (databases, APIs, FTPs, SharePoint, Power Platform, Azure) using a range of technologies depending upon the use case (SQL, R, Python, PowerShell)\n",
      "• Develop, manage, and maintain the data platform, which includes database architecture, stored procedures, server task management, and reporting\n",
      "• Drive the process to automate manual procedures and optimize data delivery for end-users\n",
      "• Work with stakeholders to assist with data-related technical issues and support their data infrastructure needs\n",
      "\n",
      "Qualifications\n",
      "\n",
      "• Bachelor's degree in computer science, data science, statistics, informatics, information systems, or another quantitative field. Master's degree is strongly preferred, with a background in computer science / data science and/or database architecture.\n",
      "• 5+ years of experience in a data-heavy role\n",
      "• In-depth experience working with SQL databases (Oracle, SQL Server, PostgreSQL)\n",
      "• Ability to write code in one or more scripting languages: R, Python\n",
      "• GIS programming knowledge or experience strongly preferred\n",
      "• Dev Ops engineering skills a plus (e.g., distributed computing, data pipelines)\n",
      "• Experience with reporting/visualization tools like Tableau/Power BI preferred\n",
      "• Successful history of manipulating, processing, and extracting value\n"
     ]
    }
   ],
   "source": [
    "print(df.iloc[0][[\"company_name\", \"title\"]])\n",
    "print(df.iloc[0][\"description\"][0:3000])"
   ]
  },
  {
   "cell_type": "code",
   "execution_count": 128,
   "id": "1c61498e-78b3-4482-84c7-0bc699fe3177",
   "metadata": {},
   "outputs": [],
   "source": [
    "df = pd.read_pickle(\"df.pkl\")\n",
    "df[\"description\"] = df[\"description\"].str.lower()\n",
    "df[\"description\"] = df[\"description\"].replace(r\"\\n\", \" \", regex=True)\n",
    "key_terms = [\n",
    "    \"sociology\",\n",
    "    \"social science\",\n",
    "    \"physic\",\n",
    "    \"computer science\",\n",
    "    \"math\",\n",
    "    \"engineering\",\n",
    "]\n",
    "for key_term in key_terms:\n",
    "    df[key_term] = df[\"description\"].str.contains(key_term)"
   ]
  },
  {
   "cell_type": "code",
   "execution_count": 129,
   "id": "a44f83ad-f071-4748-ba6e-2311de148341",
   "metadata": {},
   "outputs": [
    {
     "data": {
      "text/plain": [
       "sociology            2.0\n",
       "social science       2.0\n",
       "physic              24.0\n",
       "computer science    53.0\n",
       "math                54.0\n",
       "engineering         56.0\n",
       "dtype: float64"
      ]
     },
     "execution_count": 129,
     "metadata": {},
     "output_type": "execute_result"
    }
   ],
   "source": [
    "(df[key_terms].mean() * 100).sort_values()"
   ]
  },
  {
   "cell_type": "code",
   "execution_count": 3,
   "id": "d4c7b80d",
   "metadata": {},
   "outputs": [],
   "source": [
    "# create figure to illustrate how frequently different education fields come up in data science job postings\n",
    "search_terms = [\n",
    "    \"computer science\",\n",
    "    \"mathematics\",\n",
    "    \"engineering\",\n",
    "    \"economics\",\n",
    "    \"hard science\",\n",
    "    \"physics\",\n",
    "    \"social science\",\n",
    "    \"biology\",\n",
    "    \"sociology\",\n",
    "    \"psychology\",\n",
    "]\n",
    "custom_functions.create_job_search_word_figure(\n",
    "    jobs_df, search_terms, display_figure=False\n",
    ")"
   ]
  },
  {
   "cell_type": "markdown",
   "id": "732335f6",
   "metadata": {},
   "source": [
    "{{<figure src=\"/images/leaving-academia/fig1.png\" >}}"
   ]
  },
  {
   "cell_type": "markdown",
   "id": "3d7888c1",
   "metadata": {
    "tags": []
   },
   "source": [
    "# Data Science Bootcamps:  Pros and Cons\n",
    "\n",
    "\n",
    "I knew I wanted to get into data science, but I had no idea how. After showing up to an interview in a full-on suit (that I also wore at my brother's wedding… cause I was a poor ex-grad student), I realized I needed to re-evaluate my options and I ended up attending a 12-week data science boot camp.\n",
    "\n",
    "My overall takeaway from attending a boot camp was that **it helped me get my foot in the tech industry but it certainly wasn’t worth the hefty price tag**. Anyone’s experience attending a boot camp will be highly contingent on what type of background and skillset they are already coming in with. But the reality of a data science boot camp is that you can’t learn machine learning or statistical inference in 12 weeks. It should be more viewed as a surface-level overview of what exists out there.\n",
    "\n",
    "For me, the biggest benefits of attending a boot camp were more exterior facing. Learning how to craft a resume, knowing what buzzwords to say in an HR screening, finding out that no one cares about where you’ve had publications, etc. There are plenty of resources out there for you to learn this on your own without having to commit thousands of dollars. I’ll link several concepts and resources that I think someone can learn on their own.\n",
    " \n",
    "##### RESUME\n",
    "\n",
    "There are countless [free data science resumes](https://towardsdatascience.com/how-to-build-a-solid-data-science-and-tech-resume-e899daceb271) out there if you search hard enough. A [resume is not a CV](https://www.chronicle.com/article/from-cv-to-ra-suma/), so keep it to one-page. Happy to share mine as well if you'd like, just reach out!\n",
    "\n",
    "##### LINKEDIN\n",
    "\n",
    "[Connect with me on LinkedIn](https://www.linkedin.com/) for an example of profile crafting! Networking is a necessary evil in life.\n",
    "\n",
    "##### STATISTICS\n",
    "\n",
    "Your approach to learning statistics will be highly variable on what level of statistics you already know. I found the following resources to be helpful:\n",
    "- [Introductory Econometrics Modern Approach](https://hastie.su.domains/ISLR2/ISLRv2_website.pdf): If you have more traditional training and a strong base, then this book might be helpful. Good overview of theory without going too heavy into the raw math.\n",
    "- [An Introduction to Statistical Learning with Applications in R](https://www.google.com/books/edition/Introductory_Statistics_with_R/YI0kT8cuiVUC?hl=en&gbpv=1&printsec=frontcover&bsq=Introductory%20Statistics%20with%20R%20(Statistics%20and%20Computing)): Really good beginner's course on machine learning. The code is in R, but concepts are still helpful.\n",
    "- [Khan Academy](https://www.khanacademy.org/math/probability): Probability and basic statistics will more likely than not be part of your interview process. Good to brush up here.\n",
    "- [Coursera Machine Learning](https://www.coursera.org/learn/machine-learning): Highly regarded Andrew Ng machine learning course. Definitely recommend.\n",
    "\n",
    "##### SQL\n",
    "\n",
    "SQL is an essential skill for anyone who wants to work in data, but it can be hard to learn because it's a little bit of a chicken and an egg problem. Typically you need database access to practice SQL queries and you need to know SQL to get a role that has access to a database. That being said there are still plenty of resources to learn the core concepts of [SQL](https://www.w3schools.com/sql/).\n",
    "\n",
    "##### PYTHON\n",
    "\n",
    "I strongly recommend [learning python](https://developers.google.com/edu/python/?hl=en) over R. All my blog posts are written and entirely reproducible in Python. Python can be intimidating because there of varying levels of expertise, but I would say to start, focus on learning Pandas and just basic python functions. Stay away from object-oriented programming and more advanced things. It's overkill for what a beginner should know. I always found looking at example Python projects to be helpful. Check out my [GitHub page](https://github.com/wkye).\n",
    "\n",
    "##### GITHUB\n",
    "\n",
    "Basic git hygiene is good to know. Depending on whether you want to learn more analyst skills versus data engineering skills will influence to what extent you need to learn git.\n",
    "\n",
    "Data science is a fun field _because_ there is so much to learn. So don't be intimated, keep learning little by little!\n",
    "\n",
    "# Learning to walk before you can run\n",
    "\n",
    "{{<figure src=\"/images/leaving-academia/willie_today_show.png\"\n",
    "width=\"600\"\n",
    "caption=\"Me on the Today Show while at Dia. Mama we made it!\" >}}\n",
    "    \n",
    "After much toiling, I landed my first tech job as a statistical analyst at Dia&Co(https://www.dia.com/). You may think you need to know how to be a data scientist or analyst __before__ you land your first job (and maybe __you__ do), but for me, that wasn’t the case. At Dia, I was on a growth-focused team that comprised of machine learning engineers, other analysts, a product manager, and product designers. I learned that everything in product is somehow related to a funnel, you always lead with the summary (and not the methodology), and most people don’t care about what statistical assumptions your model took into consideration.\n",
    "    \n",
    "I was lucky enough to have wonderful leads that took the time to mentor me and show me how to do things (rather than just do it themselves). I never wrote any production-level ML code or some fancy Python package, but I was able to see the behind the scene process of how recommendation systems were built and data systems were architectured. I highly recommend that type of experience.\n",
    "    \n",
    "At this point, I had drunk the metaphorical kool-aid and wanted to get deeper into tech. Instead of getting my feet wet, I jumped in head first. I landed a remote job as a data analyst at CircleCI, one of the leading companies in CI/CD. Going from a data team of 30 to a data team of 5, I was now able to build pipelines and tools from scratch. There were surely a lot of long nights and painful failures, but the saying holds: Fail quickly and learn quicker.\n",
    "    \n",
    "Today, I’m at clockwise, an AI-driven calendar management tool. I, literally, was the 2nd data hire on the team and have been building everything from scratch. Somedays I’m on the finance team building models to forecast revenue, others I’m on the growth team identifying leaks in our monetization funnel. I’m a data engineer debugging why our Fivetran to snowflake integration is down, and I’m also a software engineer finding front-end events to optimize our onboarding experience.\n",
    "\n",
    "My time in tech has felt like non-stop learning. And in truth, sometimes I feel like I learn something then immediately it becomes antiquated. But I think that is the exciting part of entering the tech data world. If you have an appetite for learning, then as long as you know the right area to focus on, there are plenty of opportunities out there for you.\n",
    "\n",
    "# Takeaway\n",
    "    \n",
    "Breaking the number 1 rule I've learned in industry, I'm putting my summary at the bottom. But the takeaway is that breaking into tech from academia is no easy thing. Particularly if you're coming from a non-hard sciences background like me. At the same time, no matter what field you are coming from, if you have a sense of curiosity and a desire to learn, then I believe the core values to succeed are there. It's just a matter of learning where to focus your attention.\n",
    "    \n",
    "I hope that this post gave you some sort of sense of orientation on how to navigate the tech data space. Leaving academia for tech was not an easy journey, but one I do not regret. No matter what choice you make, good luck on your journey and if there's any way I can be of help, don't hesitate to reach out! "
   ]
  },
  {
   "cell_type": "code",
   "execution_count": null,
   "id": "355ee9e6-03f4-492a-aa72-3e0b457d4df8",
   "metadata": {},
   "outputs": [],
   "source": []
  }
 ],
 "metadata": {
  "hugo": {
   "date": "2022-10-06",
   "draft": false,
   "enableEmoji": true,
   "hasMath": false,
   "notebook": true,
   "slug": "leaving-academia",
   "tags": [
    "academia",
    "social sciences",
    "tech",
    "industry",
    "data science"
   ],
   "title": "Getting Out of Academia and into Tech Without a Hard Sciences Degree"
  },
  "kernelspec": {
   "display_name": "leaving-academia-for-tech",
   "language": "python",
   "name": "leaving-academia-for-tech"
  },
  "language_info": {
   "codemirror_mode": {
    "name": "ipython",
    "version": 3
   },
   "file_extension": ".py",
   "mimetype": "text/x-python",
   "name": "python",
   "nbconvert_exporter": "python",
   "pygments_lexer": "ipython3",
   "version": "3.10.0"
  }
 },
 "nbformat": 4,
 "nbformat_minor": 5
}
