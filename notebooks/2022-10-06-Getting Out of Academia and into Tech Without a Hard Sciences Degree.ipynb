{
 "cells": [
  {
   "cell_type": "markdown",
   "id": "3a56b22d",
   "metadata": {},
   "source": [
    "More and more people are flocking to the high-paying, flexible, and engaging work that the technology space has to offer. And with some of the highest training from the sharpest minds in their fields, the transition seems almost natural for academics. Almost. Tech is lauded as being a non-credentialed space - it doesn't care about where you went to school or what previous roles you've had. While this is true to an extent, it is more true for some fields than others. Transitioning from a physicist to a machine learning engineer is a story I've heard a million times. But what about someone with a social science Ph.D. or a humanity degree?\n",
    "\n",
    "I left my Ph.D. program in sociology from the University of Notre Dame in 2017 without even finishing my degree. Today I am working as a data scientist at a tech company - in retrospect, a career much better suited for me personally. I want to use this post as an opportunity to share my thoughts on how my transition went and give a glimpse into a more unusual transition into a tech career.\n",
    "<!--more-->\n",
    "\n",
    "# Why I Left Academia\n",
    "\n",
    "{{<figure src=\"/images/leaving-academia/Willie-ND-2015.png\"\n",
    "width=\"600\"\n",
    "caption=\"I'm still the face of ND sociology (as of Oct 2022)\" >}}\n",
    "\n",
    "I want to say upfront that I loved my time at Notre Dame (Go Irish :football:). I had some of the greatest professors and mentors. But it just wasn't for me.\n",
    "    \n",
    "The initial draw of why I entered a Ph.D. program, was the research. I was fascinated with why people behaved the way they did, particularly from a quantitative lense. And my time in academia cultivated those skills. [Jeffrey Wooldridge's Econometrics textbook]((https://www.amazon.com/Introductory-Econometrics-Modern-Approach-Economics/dp/1111531048)) remains the foundation of my statistics. And my thesis was my first real exposure to collecting, cleaning, and analyzing large datasets (my dissertation proposal was around using census data to predict neighborhood gentrification - don't ask me more than that cause I don't remember much more...). But there is SO much more to academia than just research. Between the politics of the department, the constant pressure to come up with something new and innovative (even if you're not interested in it), and the looming fact that there is only a tiny pool of tenure-track jobs available after (if) you graduate, it left me feeling disillusioned and disenchanted with academia.\n",
    "    \n",
    "I loved research, but surely there must be a way to do it without the pressure of grants, publications, and all the other political bullshit.\n",
    "\n",
    "# Less of a Transition More of a Free Fall\n",
    "    \n",
    "After mulling it over, I decided to leave my Ph.D. program. I thought to myself \"I have Ph.D. training from a prestigious institution like Notre Dame, I should be an attractive candidate in the tech space\". And I wasn't completely incorrect.\n",
    "- I knew how to do robust quantitative research.\n",
    "- I had a strong statistical base, particularly in inference (regressions, significance testing, etc.).\n",
    "- I knew the basics of coding (initially trained in Stata, but had learned R by the time I left ND).\n",
    "- To be frank, was a workaholic. Being a graduate student to this day is one of the hardest things I've ever done.\n",
    "\n",
    "At the same time, I also\n",
    "- Had a 3-page CV.\n",
    "- Wore a suit to my first interview.\n",
    "\n",
    "You get the picture, a Ph.D. prepares you to be highly trained in a very niche field. It does not train you to pass an HR screening or a take-home test. That's not to say there aren't skills you learned that aren't highly extensible to the industry, but it takes some refinement.\n",
    "This is true of anyone transitioning from academia, but it is doubly true if you have a degree in one of the less common fields (e.g. social sciences, humanities).\n",
    "    \n",
    "Below is a script I wrote to query the Google Careers Search API for data science job titles and descriptions (I hid the code in custom functions in my [custom_function.py](LINK) to keep the blog more readible). I use this data to see how often different educational fields comes up as a search term in data science job postings."
   ]
  },
  {
   "cell_type": "code",
   "execution_count": 1,
   "id": "e8898370",
   "metadata": {},
   "outputs": [
    {
     "name": "stdout",
     "output_type": "stream",
     "text": [
      "https://serpapi.com/search\n",
      "https://serpapi.com/search\n",
      "https://serpapi.com/search\n",
      "https://serpapi.com/search\n",
      "https://serpapi.com/search\n",
      "https://serpapi.com/search\n",
      "https://serpapi.com/search\n",
      "https://serpapi.com/search\n",
      "https://serpapi.com/search\n",
      "https://serpapi.com/search\n"
     ]
    }
   ],
   "source": [
    "import yaml\n",
    "import pandas as pd\n",
    "from serpapi import GoogleSearch\n",
    "# hyperlink to github page\n",
    "import custom_functions\n",
    "\n",
    "with open('config.yaml', 'r') as file: keys = yaml.safe_load(file)\n",
    "# query google \n",
    "combined_queries = custom_functions.query_google_jobs(q = 'data', \n",
    "                                                      location = 'New York, New York', \n",
    "                                                      api_key = keys['api_key'], \n",
    "                                                      engine = 'google_jobs',\n",
    "                                                      chips = 'job_family_1:data scientist',\n",
    "                                                      n_search = 100)\n",
    "# clean results for querying google\n",
    "jobs_df = custom_functions.clean_google_jobs_query(combined_queries)"
   ]
  },
  {
   "cell_type": "markdown",
   "id": "4bd24178",
   "metadata": {},
   "source": [
    "Here is what a sample data science job description looks like in the data:"
   ]
  },
  {
   "cell_type": "code",
   "execution_count": 2,
   "id": "b98388f6",
   "metadata": {
    "scrolled": false
   },
   "outputs": [
    {
     "name": "stdout",
     "output_type": "stream",
     "text": [
      "title           Data Scientist, Economics\n",
      "company_name                      Walmart\n",
      "Name: 0, dtype: object\n",
      "Position Summary...\n",
      "\n",
      "What you'll do...\n",
      "\n",
      "Data Strategy: Requires knowledge of understanding of business value and relevance of data and data enabled insights / decisions; Appropriate application and understanding of data ecosystem including Data Management, Data Quality Standards and Data Governance, Accessibility, Storage and Scalability, etc.; Understanding of the methods and applications that unlock the monetary value of data assets. To understand, articulate, and apply principles of the defined strategy to routine business problems that involve a single function.\n",
      "\n",
      "Analytical Modeling: Requires knowledge of feature relevance and selection; Exploratory data analysis methods and techniques; Advanced statistical methods and best-practice advanced modelling techniques (e.g., graphical models, Bayesian inference, basic level of NLP, Vision, neural networks, SVM, Random Forest etc.); Multivariate calculus; Statistical models behind standard ML models; Advanced excel techniques and Programming languages like R/Python; Basic classical optimization techniques (e.g., Newton-Rapson methods, Gradient descent); Numerical methods of optimization (e.g. Linear Programming, Integer Programming, Quadratic Programming, etc.) To select the analytical modeling technique most suitable for the structured, complex data and develops custom analytical models. Conduct exploratory data analysis activities (for example, basic statistical analysis, hypothesis testing, statistical inferences) on available data. Define and finalize features based on model responses and introduces new or revised features to enhance the analysis and outcomes. Identify the dimensions of the experiment, finalize the design, test hypotheses, and conduct the experiment. Perform trend and cluster analysis on data to answer practical business problems and provide recommendations and key insights to the business. Mentor and guide junior associates on basic modeling and analytics techniques to solve complex problems.\n",
      "\n",
      "Model Deployment and Scaling: Requires knowledge of impact of variables and features on model performance; understanding of servers, model formats to store models. To support efforts to ensure that analytical models and techniques used can be deployed into production. Support evaluation of the analytical model. Support the scalability and sustainability of analytical models.\n",
      "\n",
      "Code Development and Testing: Requires knowledge of coding languages like SQL, Java, C++, Python and others; Testing methods such as static, dynamic, software composition analysis, manual penetration testing and others; Business, domain understanding. To write code to develop the required solution and application features by using the recommended programming language and leveraging business, technical, and data requirements. Test the code using the recommended testing approach.\n",
      "\n",
      "Tech. Problem Formulation: Requires knowledge of Analytics/big data analytics / automation techniques and methods; Business understanding; Precedence and use cases; Business requirements and insights. To translate/ co-own business problems within one's discipline to data related or mathematical solutions. Identify appropriate methods/tools to be leveraged to provide a solution for the problem. Share use cases and gives examples to demonstrate how the method would solve the business problem.\n",
      "\n",
      "Understanding Business Context: Requires knowledge of Industry and environmental factors; Common business vernacular; Business practices across two or more domains such as product, finance, marketing, sales, technology, business systems, and human resources and in-depth knowledge of related practices; Directly relevant business metrics and business areas. To Support the development of business cases and recommendations. Drive delivery of project activity and tasks assigned by others. Support process updates and changes. Support, under guidance, in solving business issues.\n",
      "\n",
      "Data Source Identification: Requires knowledge of Functional business domain and scenarios; Categories of data and where it is held; Business data requirements; Database technologies and distributed datastores (e.g. SQL, NoSQL); Data Quality; Existing business systems and processes, including the key drivers and measures of success. To Understand the appropriate data set required to develop simple models by developing initial drafts. Support the identification of the most suitable source for data Maintains awareness of data quality.\n",
      "\n",
      "Model Assessment and Validation: Requires knowledge of model fit testing, tuning, and validation techniques (e.g., Chi square, ROC curve, root mean square error etc.); Impact of variables and features on model performance To support model fit testing and statistical inferences to evaluate performance. Assess the impact of variables and features on model performance.\n",
      "\n",
      "Data Visualization: Requires knowledge of Visualization guidelines and best practices for complex data types; Multiple data visualization tools (for example, Python, R libraries, GGplot, Matplotlib, Ploty, Tableau, PowerBI etc.); Advanced visualization techniques/ tools; Multiple story plots and structures (OABCDE); Communication & influencing technique; Emotional intelligence. To generate appropriate graphical representations of data and model outcomes under guidance. Support the understanding of customer requirements and design data representations for simple data sets; Present to and influence the team using the appropriate data visualization frameworks and convey messages through basic business understanding.\n",
      "\n",
      "Demonstrates up-to-date expertise and applies this to the development, execution, and improvement of action plans by providing expert advice and guidance to others in the application of information and best practices; supporting and aligning efforts to meet customer and business needs; and building commitment for perspectives and rationales.\n",
      "\n",
      "Provides and supports the implementation of business solutions by building relationships and partnerships with key stakeholders; identifying business needs; determining and carrying out necessary processes and practices; monitoring progress and results; recognizing and capitalizing on improvement opportunities; and adapting to competing demands, organizational changes, and new responsibilities.\n",
      "\n",
      "Models compliance with company policies and procedures and supports company mission, values, and standards of ethics and integrity by incorporating these into the development and implementation of business plans; using the Open Door Policy; and demonstrating and assisting others with how to apply these in executing business processes and practices.\n",
      "\n",
      "Live our Values\n",
      "Culture Champion\n",
      "• Models the Walmart values to foster our culture; holds oneself and others accountable; and supports Walmart’s commitment to communities, social justice, corporate social responsibility, and sustainability; maintains and promotes the highest standards of integrity, ethics and compliance.\n",
      "Servant Leadership\n",
      "• Acts as an altruistic servant leader and is consistently humble, self-aware, honest, and transparent.\n",
      "Embrace Change\n",
      "Curiosity & Courage\n",
      "• Demonstrates curiosity and a growth mindset; fosters an environment that supports learning, innovation, and intelligent risk-taking; and exhibits resilience in the face of setbacks.\n",
      "Digital Transformation & Change\n",
      "• Seeks and implements continuous improvements and encourages the team to leverage new digital tools and ways of working.\n",
      "Deliver for the Customer\n",
      "Customer Focus\n",
      "• Delivers expected business results while putting the customer first and consistently applying an omni-merchant mindset and the EDLP and EDLC business models to all plans.\n",
      "Strategic Thinking\n",
      "• Adopts a holistic perspective that considers data, analytics, customer insights, and different parts of the business when making plans and shaping the team’s strategy.\n",
      "Focus on our Associates\n",
      "\n",
      "Diversity, Equity & Inclusion\n",
      "• Embraces diversity in all its forms and actively supports diversity of ideas and perspectives, as well as diversity goal programs.\n",
      "Collaboration & Influence\n",
      "• Builds strong and trusting relationships with team members and business partners; works collaboratively and cross-functionally to achieve objectives; and communicates with energy and positivity to motivate, influence, and inspire commitment and action.\n",
      "Talent Management\n",
      "• Contributes to an environment allowing everyone to bring their best selves to work, demonstrates engagement and commitment to the team, and recognizes others’ contributions and accomplishments.\n",
      "\n",
      "Minimum Qualifications...\n",
      "\n",
      "Outlined below are the required minimum qualifications for this position. If none are listed, there are no minimum qualifications.\n",
      "\n",
      "Option 1: Bachelors degree in Statistics, Economics, Analytics, Mathematics, Computer Science, Information Technology or related field and 2 years' experience in an analytics or related field. Option 2: Masters degree in Statistics, Economics, Analytics, Mathematics, Computer Science, Information Technology or related field. Option 3: 4 years' experience in an analytics or related field.\n",
      "\n",
      "Preferred Qualifications...\n",
      "\n",
      "Outlined below are the optional preferred qualifications for this position. If none are listed, there are no preferred qualifications.\n",
      "\n",
      "Data science, machine learning, optimization models, Master’s degree in Machine Learning, Computer Science, Information Technology, Operations Research, Statistics, Applied Mathematics, Econometrics, Successful completion of one or more assessments in Python, Spark, Scala, or R, Using open source frameworks (for example, scikit learn, tensorflow, torch)\n",
      "\n",
      "Primary Location...\n",
      "250 Hudson St, NEW YORK, NY 10013-1006, United States of America\n"
     ]
    }
   ],
   "source": [
    "print(jobs_df.iloc[0][['title','company_name']])\n",
    "print(combined_queries[0]['description'])"
   ]
  },
  {
   "cell_type": "markdown",
   "id": "6859a636",
   "metadata": {},
   "source": [
    "You can see here that something like **mathematics or economics appears in data science job postings nearly 30%** of the time. In contrast, **sociology only appeared in 1% of data science job descriptions**... :cry:\n",
    "\n",
    "This is a simple, yet powerful, example of how coming out of academia with a non-computer or hard science training drastically shapes how the job market views you."
   ]
  },
  {
   "cell_type": "code",
   "execution_count": 3,
   "id": "d4c7b80d",
   "metadata": {},
   "outputs": [],
   "source": [
    "# create figure to illustrate how frequently different education fields come up in data science job postings\n",
    "search_terms = ['computer science','mathematics','engineering','economics','hard science', 'physics','social science','biology','sociology','psychology']\n",
    "custom_functions.create_job_search_word_figure(jobs_df, search_terms, display_figure = False)"
   ]
  },
  {
   "cell_type": "markdown",
   "id": "732335f6",
   "metadata": {},
   "source": [
    "{{<figure src=\"/images/leaving-academia/fig1.png\" >}}"
   ]
  },
  {
   "cell_type": "markdown",
   "id": "3d7888c1",
   "metadata": {},
   "source": [
    "# Data Science Bootcamps:  Pros and Cons\n",
    "\n",
    "\n",
    "I knew I wanted to get into data science, but I had no idea how. After showing up to an interview in a full on suit (that I also wore at my brothers wedding... cause I was a poor ex-grad student), I realized I needed to re-evaluate my options and I ended up attending 12 week data science bootcamp.\n",
    "\n",
    "My overall takeaway from attending a bootcamp was that it **helped me my get my foot in the tech industry but it certaintly wasn't worth the hefty price tag** Anyone's experience attending a bootcamp will be highly contingent on what type of background and skillset they are alreading coming in with. But the reality of a data science bootcamp is that you can't learn machine learning or statistical inference in 12 weeks. It should be more viewed as an surface level overview of what exist out there. \n",
    "\n",
    "For me, the biggest benefits of attending a bootcamp were more exterior facing. Learning how to craft a resume, knowing what buzzwords to say in an HR screening, finding out that no one cares about where you've had publications, etc. There are plenty of resources out there for you to learn this on your own without having to commit thousands of dollars. I'll link several concepts and resources that I think someone can learn on there own.\n",
    " \n",
    "##### RESUME\n",
    "\n",
    "There are countless [free data science resumes out](https://towardsdatascience.com/how-to-build-a-solid-data-science-and-tech-resume-e899daceb271) there if you search hard enough. A [resume is not a CV](https://www.chronicle.com/article/from-cv-to-ra-suma/)., so keep it one page. Happy to share mine as well if you'd like, just reach out!\n",
    "\n",
    "##### LINKEDIN\n",
    "\n",
    "[Connect with me on LinkedIn](https://www.linkedin.com/) for an example of profile crafting! Networking is a necessary evil in life.\n",
    "\n",
    "##### STATISTICS\n",
    "\n",
    "Your approach to learning statistics will be highly variable on what level of statistics you already know. I found the following resources to be helpful:\n",
    "- [Introductory Econometrics Modern Approach](https://www.amazon.com/Introductory-Econometrics-Modern-Approach-Economics/dp/1111531048): If you have a more traditional training and a strong base, then this book might be helpful. Heavy on theory without going to heavy into the raw math.\n",
    "- [Introductory_Statistics_with_R](https://www.google.com/books/edition/Introductory_Statistics_with_R/YI0kT8cuiVUC?hl=en&gbpv=1&printsec=frontcover&bsq=Introductory%20Statistics%20with%20R%20(Statistics%20and%20Computing)): Really good beginners course on machine learning. Code is in R, but concepts are still helpful\n",
    "- [Khan Academy](https://www.khanacademy.org/math/probability): Probability and basic statistics will more likely than not be part of your interview process. Good to brush up here.\n",
    "- [Coursera Machine Learning](https://www.coursera.org/learn/machine-learning): Highly regarded Andrew Ng machine learning course. Definetely recommend.\n",
    "\n",
    "##### SQL\n",
    "\n",
    "SQL is an essential skill for anyone who wants to work in data, but it can be hard to learn because its a little bit of a chicken and an egg problem. Typically you need database access to practice SQL queries and you need to know SQL to get a role that has access to a database. That being said there are still plenty of resources out there to learn the core concepts of [SQL](https://www.w3schools.com/sql/)\n",
    "\n",
    "##### PYTHON\n",
    "\n",
    "I strongly recommend [learning python](https://developers.google.com/edu/python/?hl=en) over R. All my blog posts are written and entirely reproducable in Python. Python can be intimidating because there of varying level of expertise, but I would say to start, focus on learning Pandas and just basic python functions (like imports and functions). Stay away from object oriented programming and more advanced things. Its just overkill for what a beginner should know. I always found looking at example Python project to be helpful. Check out my [GitHub page](https://github.com/wkye).\n",
    "\n",
    "##### GITHUB\n",
    "\n",
    "Basic git hygene is good to know. Depending on whether you want to lean more analyst versus data engineering will influence to what extent you need to learn git\n",
    "\n",
    "Data science is a fun field _because_ there is so much to learn. So don't be intimated, keep learning little by little!\n",
    "\n",
    "# Learning to walk before you can run (a fancy python ML script)\n",
    "\n",
    "{{<figure src=\"/images/leaving-academia/willie_today_show.png\"\n",
    "width=\"600\"\n",
    "caption=\"Me on the Today Show while at Dia. Mama we made it!\" >}}\n",
    "    \n",
    "After much toiling, I landed my first tech job as a statistical analyst at [Dia&Co](https://www.dia.com/). You may think you need to know how to be a data scientist or analyst __before__ you land your first job (and maybe __you__ do), but for me that wasn't the case (*cue Jon Snow you know nothing*). At Dia, I was on a growth focused team that comprised of machine learning engineers, other analysts, a product manager and product designers. I learned that everything in product is somehow related to a funnel, you always lead with the summary (and definetly not the methodology), most people don't care about what statistical assumptions your model took into consideration, and that you don't email code to be reviewed, you tag your reviewer on PR. (:sweat_smile: real story).\n",
    "    \n",
    "I was lucky enough to have wonderful leads that took the time to mentor me and show me how to do things (rather than just do it themselves). I never wrote any production level ML code or some fancy Python package, but I was able to see the behind the scene process of how recommendation systems were build and data systms were architectured. I highly recommend that type of experience.\n",
    "    \n",
    "At this point, I had drunk the metaphorical kool-aid and wanted to get deeper into tech. Instead of getting my feet wet, I jumped in head first. I landed a remote job as a data analyst at [CircleCI](https://circleci.com/), one of the leading companies in CI/CD. If you don't know what CI/CD is, join my parents, who still think CircleCI is a gas station company. But going from a data team of 30 to a data team of 5, I was now able to build pipelines and tools from scatch. There was surely a lot of long nights and painful failures, but the saying holds true: Fail quickly and learn quicker.\n",
    "    \n",
    "Today, I'm at [clockwise](https://www.getclockwise.com/), an AI driven calendar manegment tool. I, literally, was the 2nd data hire on the team and have really been building everything from scratch. Somedays I'm on the finance team building models to forecast revenue, others I'm on the growth team identifying leaks in our monetization funnel. I'm a data engineer debugging why our fivetran to snowflake integration is down, and I'm also a software engineer finding front-end events to optimize our onboarding experience. The hats are many, and the snacks I get sent are even more plentiful (still fully remote at this point).\n",
    "    \n",
    "My time in tech has felt like non-stop learning. And in truth, sometimes I feel like I learn something then immediately it becomes antiquated. But I think that is the exciting part of entering the tech data world. If you have an apetite for learning, the as long as you know the right area to focus there are plenty of opportunties out there for you.\n",
    "\n",
    "# Takeaway\n",
    "    \n",
    "Breaking the number 1 rule I've learned in industry, I'm putting my summary at the bottom. But the takeaway is that breaking into tech from academia is no easy thing. Particularly if you're coming from a non hard sciences background like me. At the same time, no matter what field you are coming from, if you have a sense of curiosity and a desire to learn, then I believe the core values to succeed are there. Its just a matter of learning where to focus your attention.\n",
    "    \n",
    "I hope that this post gave you a some sort of sense of orientation for how to navigate the tech data space. Leaving academia for tech was not an easy journey, but one I did not regret. No matter what choice you make, good luck on your journey and if there's anyway I can be of help, don't hesitate to reach out! "
   ]
  },
  {
   "cell_type": "code",
   "execution_count": null,
   "id": "5d5fe91f",
   "metadata": {},
   "outputs": [],
   "source": []
  }
 ],
 "metadata": {
  "hugo": {
   "date": "2022-10-06",
   "draft": false,
   "enableEmoji": true,
   "hasMath": false,
   "notebook": true,
   "slug": "leaving-academia",
   "tags": [
    "academia",
    "social sciences",
    "tech",
    "industry",
    "data science"
   ],
   "title": "Getting Out of Academia and into Tech Without a Hard Sciences Degree"
  },
  "kernelspec": {
   "display_name": "Python 3 (ipykernel)",
   "language": "python",
   "name": "python3"
  },
  "language_info": {
   "codemirror_mode": {
    "name": "ipython",
    "version": 3
   },
   "file_extension": ".py",
   "mimetype": "text/x-python",
   "name": "python",
   "nbconvert_exporter": "python",
   "pygments_lexer": "ipython3",
   "version": "3.9.6"
  }
 },
 "nbformat": 4,
 "nbformat_minor": 5
}
