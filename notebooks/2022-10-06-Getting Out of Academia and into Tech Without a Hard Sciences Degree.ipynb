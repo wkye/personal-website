{
 "cells": [
  {
   "cell_type": "markdown",
   "id": "a74be24b",
   "metadata": {},
   "source": [
    "More and more people are flocking to the high-paying, flexible, and engaging work that the technology space has to offer. And with some of the highest training from the sharpest minds in their fields, the transition seems almost natural for academics. Almost. Tech is lauded as being a non-credentialed space - it doesn't care about where you went to school or what previous roles you've had. While this is true to an extent, it is more true for some fields than others. Transitioning from a physicist to a machine learning engineer is a story I've heard a million times. But what about someone with a social science Ph.D. or a humanity degree?\n",
    "\n",
    "I left my Ph.D. program in sociology from the University of Notre Dame in 2017 without even finishing my degree. Today I am working as a data scientist at a tech company. In retrospect, a career much better suited for me personally. I want to use this post as an opportunity to share my thoughts on how my transition went and give a glimpse into a more unusual transition into a tech career.\n",
    "<!--more-->\n",
    "\n",
    "# Why I Left Academia\n",
    "\n",
    "{{<figure src=\"/images/leaving-academia/Willie-ND-2015.png\"\n",
    "width=\"600\"\n",
    "caption=\"I'm still the face of ND sociology (as of Oct 2022)\" >}}\n",
    "\n",
    "I want to say upfront that I loved my time at Notre Dame (Go Irish :football:). I had some of the greatest professors and mentors during my time there. But it just wasn't for me.\n",
    "\n",
    "The initial draw of why I entered a Ph.D. program, was the research. I had a fascination with why people behaved the way they did, particularly quantitatively. And my time in academia cultivated those skills. Jeffrey Wooldridge's Econometrics book remains the foundation of my statistics and I learned to clean and analyze large datasets (my dissertation idea was around using census data to predict neighborhood gentrification - don't ask me more than that cause I don't remember much more...). But there is SO much more to academia then just research. Between the politics of the department, the constant pressure to come up with something new and innovative (even if you're not interested in it), and the looming fact that there are only a small pool of tenure track jobs available after(if) you graduate, it left me feeling really disillusioned and disenchanted with academia.\n",
    "\n",
    "I loved research, but surely there must be a way to do it without the pressure of grants, publications, and all the other political bullshit.\n",
    "\n",
    "# Less of a Transition More of a Free Fall\n",
    "\n",
    "After deciding to leave my Ph.D. program, I thought to myself \"I have Ph.D. training from a prestigious institution like Notre Dame, I should be an attractive candidate in the tech space\". And I wasn't completely incorrect.\n",
    "- I knew how to do robust quantitative research\n",
    "- I had a strong statistical base, particularly in inference (regressions, significance testing, etc.)\n",
    "- I knew the basics of coding (initially trained in Stata, but had learned R by the time I left ND)\n",
    "- To be frank, was a workaholic. Being a graduate student to this day is one of the hardest things I've ever done.\n",
    "\n",
    "At the same time, I also\n",
    "- Had a 3 page CV\n",
    "- Wore a suit to my first interview\n",
    "\n",
    "You probably get the picture. A Ph.D. prepares you to be highly trained in a very niche field. It does not train you to pass an HR screening or a take home test. That's not to say there aren't skills you learned that are highly extensible to the industry, but it takes some refinement.\n",
    "\n",
    "This is true of anyone transitioning from academia, but it is doubly true if you have a degree in one of the less common fields (e.g. social sciences, humanities).\n"
   ]
  },
  {
   "cell_type": "code",
   "execution_count": 482,
   "id": "f613ca24",
   "metadata": {},
   "outputs": [],
   "source": [
    "%config InlineBackend.figure_format = 'retina'\n",
    "# passing in my secret API credentials from my config\n",
    "import yaml\n",
    "with open('config.yaml', 'r') as file:\n",
    "    keys = yaml.safe_load(file)"
   ]
  },
  {
   "cell_type": "code",
   "execution_count": 344,
   "id": "96729585",
   "metadata": {},
   "outputs": [],
   "source": [
    "import yaml\n",
    "from serpapi import GoogleSearch\n",
    "import pandas as pd"
   ]
  },
  {
   "cell_type": "code",
   "execution_count": 469,
   "id": "f4e3b047",
   "metadata": {
    "scrolled": false
   },
   "outputs": [
    {
     "name": "stdout",
     "output_type": "stream",
     "text": [
      "Number or results returned: 10\n",
      "https://serpapi.com/search\n",
      "Number or results returned: 20\n",
      "https://serpapi.com/search\n",
      "Number or results returned: 30\n",
      "https://serpapi.com/search\n",
      "Number or results returned: 40\n",
      "https://serpapi.com/search\n",
      "Number or results returned: 50\n",
      "https://serpapi.com/search\n",
      "Number or results returned: 60\n",
      "https://serpapi.com/search\n",
      "Number or results returned: 70\n",
      "https://serpapi.com/search\n",
      "Number or results returned: 80\n",
      "https://serpapi.com/search\n",
      "Number or results returned: 90\n",
      "https://serpapi.com/search\n",
      "Number or results returned: 100\n",
      "https://serpapi.com/search\n"
     ]
    }
   ],
   "source": [
    "# utilizing the serpapi package. Eventually, I want to do a more complex\n",
    "# NLP project here. But for the purposes of this blog, I kept the code\n",
    "# pretty simple (I did write some functions for that *future* analysis)\n",
    "from serpapi import GoogleSearch\n",
    "\n",
    "def query_google_jobs(\n",
    "    q: pd.StringDtype,\n",
    "    location: pd.StringDtype,\n",
    "    api_key: pd.StringDtype,\n",
    "    engine: pd.StringDtype,\n",
    "    chips: pd.StringDtype,\n",
    "    n_search: pd.Int16Dtype\n",
    ") -> list:  \n",
    "    \n",
    "    combined_queries = []\n",
    "    \n",
    "    for i in range(0,n_search,10):\n",
    "        \n",
    "        print(f'Number or results returned: {i+10}')\n",
    "        \n",
    "        jobs_results = GoogleSearch({\n",
    "            \"q\":q,\n",
    "            \"location\":location,\n",
    "            \"api_key\":api_key,\n",
    "            \"engine\":engine,\n",
    "            \"chips\":chips,\n",
    "            \"start\":i\n",
    "        }).get_dict()\n",
    "        \n",
    "        combined_queries = combined_queries + jobs_results['jobs_results']\n",
    "        \n",
    "    return combined_queries\n",
    "\n",
    "combined_queries  = query_google_jobs(q = 'data',\n",
    "                  location = 'New York, New York',\n",
    "                  api_key = keys['api_key'],\n",
    "                  engine = 'google_jobs',\n",
    "                  chips = 'job_family_1:data scientist',\n",
    "                  n_search = 100)"
   ]
  },
  {
   "cell_type": "code",
   "execution_count": 470,
   "id": "dfcb15e5",
   "metadata": {},
   "outputs": [],
   "source": [
    "import pandas as pd\n",
    "\n",
    "job_dict_final = {'title':[], 'description':[], 'company_name':[]}\n",
    "\n",
    "for i in combined_queries:\n",
    "    \n",
    "    try:\n",
    "        job_dict = { your_key: i[your_key] for your_key in ['title','description','company_name']} \n",
    "        job_dict_final['title'].append(job_dict['title'])\n",
    "        job_dict_final['description'].append(job_dict['description'])\n",
    "        job_dict_final['company_name'].append(job_dict['company_name'])\n",
    "        \n",
    "    except:\n",
    "        pass\n",
    "\n",
    "jobs_df = pd.DataFrame(job_dict_final)\n",
    "# did really basic regex cleaning here. Just trying to get a rough estimate\n",
    "jobs_df['description']  = jobs_df['description'].str.lower()\n"
   ]
  },
  {
   "cell_type": "code",
   "execution_count": 471,
   "id": "2f5300c1",
   "metadata": {},
   "outputs": [],
   "source": [
    "# key terms i'm looking up in job descriptions\n",
    "search_terms = ['computer science','mathematics','engineering',\n",
    "               'economics','hard science', 'physics','social science','biology','sociology','psychology']\n",
    "\n",
    "percentage_list = []\n",
    "\n",
    "for term in search_terms:\n",
    "    \n",
    "    percentage = jobs_df['description'].str.contains(term).mean()*100\n",
    "    percentage_list.append(percentage)\n",
    "\n",
    "search_percentages_df = pd.DataFrame({'term':search_terms, 'percentage':percentage_list}).sort_values('percentage', ascending=False)"
   ]
  },
  {
   "cell_type": "code",
   "execution_count": 479,
   "id": "81215eef",
   "metadata": {},
   "outputs": [],
   "source": [
    "import plotly.graph_objects as go\n",
    "data = [go.Bar(x=search_percentages_df['term'],\n",
    "            y=search_percentages_df['percentage'])]\n",
    "fig = go.Figure(data = data)\n",
    "# fig.write_image(\"images/fig1.png\")"
   ]
  },
  {
   "cell_type": "markdown",
   "id": "8a871bfb",
   "metadata": {},
   "source": [
    "{{<figure src=\"/images/leaving-academia/index_1.png\" >}}"
   ]
  },
  {
   "cell_type": "code",
   "execution_count": null,
   "id": "2e73c090",
   "metadata": {},
   "outputs": [],
   "source": []
  }
 ],
 "metadata": {
  "hugo": {
   "date": "2022-10-06",
   "draft": false,
   "enableEmoji": true,
   "hasMath": false,
   "notebook": true,
   "slug": "website",
   "tags": [
    "academia",
    "social sciences",
    "tech",
    "industry",
    "data science"
   ],
   "title": "Getting Out of Academia and into Tech Without a Hard Sciences Degree"
  },
  "language_info": {
   "codemirror_mode": {
    "name": "ipython",
    "version": 3
   },
   "file_extension": ".py",
   "mimetype": "text/x-python",
   "name": "python",
   "nbconvert_exporter": "python",
   "pygments_lexer": "ipython3",
   "version": "3.9.6"
  }
 },
 "nbformat": 4,
 "nbformat_minor": 5
}
